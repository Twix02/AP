{
 "cells": [
  {
   "cell_type": "markdown",
   "metadata": {},
   "source": [
    "# TP2 - Modeling using docplex"
   ]
  },
  {
   "cell_type": "markdown",
   "metadata": {},
   "source": [
    "## 1. The `docplex` python package\n",
    "\n",
    "`DOcplex` is a python package developped by IBM &mdash; It provides easy-to-use API for IBM solvers Cplex and Cpoptimizer.\n",
    "\n",
    "DOcplex documentation for mathematical programming can be found here: http://ibmdecisionoptimization.github.io/docplex-doc/#mathematical-programming-modeling-for-python-using-docplex-mp-docplex-mp"
   ]
  },
  {
   "cell_type": "markdown",
   "metadata": {},
   "source": [
    "## 2. Solving TSP using `docplex`\n",
    "\n",
    "### 2.1. TSP model using `docplex`\n",
    "\n",
    "**Exercice:** Using `docplex`, create a model for the travelling salesman problem using the MTZ or Flow formulation and compare them."
   ]
  },
  {
   "cell_type": "code",
   "execution_count": 5,
   "metadata": {},
   "outputs": [
    {
     "name": "stdout",
     "output_type": "stream",
     "text": [
      "Defaulting to user installation because normal site-packages is not writeable\n",
      "Collecting cplex\n",
      "  Downloading cplex-22.1.0.0-cp39-cp39-manylinux1_x86_64.whl (43.3 MB)\n",
      "\u001b[2K     \u001b[38;2;114;156;31m━━━━━━━━━━━━━━━━━━━━━━━━━━━━━━━━━━━━━━━━\u001b[0m \u001b[32m43.3/43.3 MB\u001b[0m \u001b[31m7.3 MB/s\u001b[0m eta \u001b[36m0:00:00\u001b[0mm eta \u001b[36m0:00:01\u001b[0m[36m0:00:01\u001b[0mm\n",
      "\u001b[?25hInstalling collected packages: cplex\n",
      "Successfully installed cplex-22.1.0.0\n",
      "Note: you may need to restart the kernel to use updated packages.\n"
     ]
    }
   ],
   "source": [
    "pip install cplex"
   ]
  },
  {
   "cell_type": "code",
   "execution_count": 1,
   "metadata": {},
   "outputs": [
    {
     "name": "stdout",
     "output_type": "stream",
     "text": [
      "CPLEX Error  1016: Community Edition. Problem size limits exceeded. Purchase at http://ibm.biz/error1016.\n"
     ]
    },
    {
     "ename": "DOcplexLimitsExceeded",
     "evalue": "**** Promotional version. Problem size limits (1000 vars, 1000 consts) exceeded, model has 1806 vars, 1767 consts, CPLEX code=1016",
     "output_type": "error",
     "traceback": [
      "\u001b[0;31m---------------------------------------------------------------------------\u001b[0m",
      "\u001b[0;31mCplexSolverError\u001b[0m                          Traceback (most recent call last)",
      "File \u001b[0;32m~/.local/lib/python3.9/site-packages/docplex/mp/cplex_engine.py:2008\u001b[0m, in \u001b[0;36mCplexEngine.solve\u001b[0;34m(self, mdl, parameters, **kwargs)\u001b[0m\n\u001b[1;32m   2007\u001b[0m \u001b[38;5;28;01melse\u001b[39;00m:\n\u001b[0;32m-> 2008\u001b[0m     \u001b[43mcpx\u001b[49m\u001b[38;5;241;43m.\u001b[39;49m\u001b[43msolve\u001b[49m\u001b[43m(\u001b[49m\u001b[43m)\u001b[49m\n\u001b[1;32m   2010\u001b[0m cpx_status \u001b[38;5;241m=\u001b[39m cpx\u001b[38;5;241m.\u001b[39msolution\u001b[38;5;241m.\u001b[39mget_status()\n",
      "File \u001b[0;32m~/.local/lib/python3.9/site-packages/cplex/__init__.py:1304\u001b[0m, in \u001b[0;36mCplex.solve\u001b[0;34m(self, paramsets)\u001b[0m\n\u001b[1;32m   1303\u001b[0m \u001b[38;5;28;01melif\u001b[39;00m \u001b[38;5;28mself\u001b[39m\u001b[38;5;241m.\u001b[39m_is_MIP():\n\u001b[0;32m-> 1304\u001b[0m     \u001b[43m_proc\u001b[49m\u001b[38;5;241;43m.\u001b[39;49m\u001b[43mmipopt\u001b[49m\u001b[43m(\u001b[49m\u001b[38;5;28;43mself\u001b[39;49m\u001b[38;5;241;43m.\u001b[39;49m\u001b[43m_env\u001b[49m\u001b[38;5;241;43m.\u001b[39;49m\u001b[43m_e\u001b[49m\u001b[43m,\u001b[49m\u001b[43m \u001b[49m\u001b[38;5;28;43mself\u001b[39;49m\u001b[38;5;241;43m.\u001b[39;49m\u001b[43m_lp\u001b[49m\u001b[43m)\u001b[49m\n\u001b[1;32m   1305\u001b[0m \u001b[38;5;28;01melif\u001b[39;00m \u001b[38;5;28mself\u001b[39m\u001b[38;5;241m.\u001b[39mquadratic_constraints\u001b[38;5;241m.\u001b[39mget_num() \u001b[38;5;241m>\u001b[39m \u001b[38;5;241m0\u001b[39m:\n",
      "File \u001b[0;32m~/.local/lib/python3.9/site-packages/cplex/_internal/_procedural.py:708\u001b[0m, in \u001b[0;36mmipopt\u001b[0;34m(env, lp)\u001b[0m\n\u001b[1;32m    707\u001b[0m     status \u001b[38;5;241m=\u001b[39m CR\u001b[38;5;241m.\u001b[39mCPXXmipopt(env, lp)\n\u001b[0;32m--> 708\u001b[0m \u001b[43mcheck_status\u001b[49m\u001b[43m(\u001b[49m\u001b[43menv\u001b[49m\u001b[43m,\u001b[49m\u001b[43m \u001b[49m\u001b[43mstatus\u001b[49m\u001b[43m)\u001b[49m\n",
      "File \u001b[0;32m~/.local/lib/python3.9/site-packages/cplex/_internal/_procedural.py:249\u001b[0m, in \u001b[0;36mStatusChecker.__call__\u001b[0;34m(self, env, status, from_cb)\u001b[0m\n\u001b[1;32m    248\u001b[0m         error_string \u001b[38;5;241m=\u001b[39m geterrorstring(env, status)\n\u001b[0;32m--> 249\u001b[0m \u001b[38;5;28;01mraise\u001b[39;00m CplexSolverError(error_string, env, status)\n",
      "\u001b[0;31mCplexSolverError\u001b[0m: CPLEX Error  1016: Community Edition. Problem size limits exceeded. Purchase at http://ibm.biz/error1016.",
      "\nDuring handling of the above exception, another exception occurred:\n",
      "\u001b[0;31mDOcplexLimitsExceeded\u001b[0m                     Traceback (most recent call last)",
      "Input \u001b[0;32mIn [1]\u001b[0m, in \u001b[0;36m<cell line: 29>\u001b[0;34m()\u001b[0m\n\u001b[1;32m     25\u001b[0m             tsp\u001b[38;5;241m.\u001b[39madd_constraint((u[i] \u001b[38;5;241m-\u001b[39m u[j] \u001b[38;5;241m+\u001b[39m \u001b[38;5;241m1\u001b[39m) \u001b[38;5;241m<\u001b[39m\u001b[38;5;241m=\u001b[39m ((N\u001b[38;5;241m-\u001b[39m\u001b[38;5;241m1\u001b[39m)\u001b[38;5;241m*\u001b[39m(\u001b[38;5;241m1\u001b[39m \u001b[38;5;241m-\u001b[39m x[i][j])))\n\u001b[1;32m     27\u001b[0m tsp\u001b[38;5;241m.\u001b[39mminimize(tsp\u001b[38;5;241m.\u001b[39msum([tsp\u001b[38;5;241m.\u001b[39mdot(x[i], distances[i]) \u001b[38;5;28;01mfor\u001b[39;00m i \u001b[38;5;129;01min\u001b[39;00m \u001b[38;5;28mrange\u001b[39m(N)]))\n\u001b[0;32m---> 29\u001b[0m solution \u001b[38;5;241m=\u001b[39m \u001b[43mtsp\u001b[49m\u001b[38;5;241;43m.\u001b[39;49m\u001b[43msolve\u001b[49m\u001b[43m(\u001b[49m\u001b[43m)\u001b[49m\n\u001b[1;32m     30\u001b[0m \u001b[38;5;28mprint\u001b[39m(\u001b[38;5;124m\"\u001b[39m\u001b[38;5;124mz* =\u001b[39m\u001b[38;5;124m\"\u001b[39m, solution\u001b[38;5;241m.\u001b[39mobjective_value)\n",
      "File \u001b[0;32m~/.local/lib/python3.9/site-packages/docplex/mp/model.py:4833\u001b[0m, in \u001b[0;36mModel.solve\u001b[0;34m(self, **kwargs)\u001b[0m\n\u001b[1;32m   4830\u001b[0m \u001b[38;5;28;01mif\u001b[39;00m \u001b[38;5;28mself\u001b[39m\u001b[38;5;241m.\u001b[39menvironment\u001b[38;5;241m.\u001b[39mhas_cplex:\n\u001b[1;32m   4831\u001b[0m     \u001b[38;5;66;03m# take arg clean flag or this model's\u001b[39;00m\n\u001b[1;32m   4832\u001b[0m     used_clean_before_solve \u001b[38;5;241m=\u001b[39m kwargs\u001b[38;5;241m.\u001b[39mget(\u001b[38;5;124m'\u001b[39m\u001b[38;5;124mclean_before_solve\u001b[39m\u001b[38;5;124m'\u001b[39m, \u001b[38;5;28mself\u001b[39m\u001b[38;5;241m.\u001b[39mclean_before_solve)\n\u001b[0;32m-> 4833\u001b[0m     \u001b[38;5;28;01mreturn\u001b[39;00m \u001b[38;5;28;43mself\u001b[39;49m\u001b[38;5;241;43m.\u001b[39;49m\u001b[43m_solve_local\u001b[49m\u001b[43m(\u001b[49m\u001b[43mcontext\u001b[49m\u001b[43m,\u001b[49m\u001b[43m \u001b[49m\u001b[43mused_clean_before_solve\u001b[49m\u001b[43m,\u001b[49m\u001b[43m \u001b[49m\u001b[43mparameter_sets\u001b[49m\u001b[43m)\u001b[49m\u001b[38;5;66;03m# lex_timelimits, lex_mipgaps)\u001b[39;00m\n\u001b[1;32m   4834\u001b[0m \u001b[38;5;28;01melse\u001b[39;00m:\n\u001b[1;32m   4835\u001b[0m     \u001b[38;5;28;01mreturn\u001b[39;00m \u001b[38;5;28mself\u001b[39m\u001b[38;5;241m.\u001b[39mfatal(\u001b[38;5;124m\"\u001b[39m\u001b[38;5;124mCannot solve model: no CPLEX runtime found.\u001b[39m\u001b[38;5;124m\"\u001b[39m)\n",
      "File \u001b[0;32m~/.local/lib/python3.9/site-packages/docplex/mp/model.py:4881\u001b[0m, in \u001b[0;36mModel._solve_local\u001b[0;34m(self, context, clean_before_solve, parameter_sets)\u001b[0m\n\u001b[1;32m   4879\u001b[0m \u001b[38;5;28;01mexcept\u001b[39;00m DOcplexException \u001b[38;5;28;01mas\u001b[39;00m docpx_e:  \u001b[38;5;66;03m# pragma: no cover\u001b[39;00m\n\u001b[1;32m   4880\u001b[0m     new_solution \u001b[38;5;241m=\u001b[39m \u001b[38;5;28;01mNone\u001b[39;00m\n\u001b[0;32m-> 4881\u001b[0m     \u001b[38;5;28;01mraise\u001b[39;00m docpx_e\n\u001b[1;32m   4883\u001b[0m \u001b[38;5;28;01mexcept\u001b[39;00m \u001b[38;5;167;01mException\u001b[39;00m \u001b[38;5;28;01mas\u001b[39;00m e:\n\u001b[1;32m   4884\u001b[0m     new_solution \u001b[38;5;241m=\u001b[39m \u001b[38;5;28;01mNone\u001b[39;00m\n",
      "File \u001b[0;32m~/.local/lib/python3.9/site-packages/docplex/mp/model.py:4870\u001b[0m, in \u001b[0;36mModel._solve_local\u001b[0;34m(self, context, clean_before_solve, parameter_sets)\u001b[0m\n\u001b[1;32m   4867\u001b[0m \u001b[38;5;66;03m# assert used_parameters is not None\u001b[39;00m\n\u001b[1;32m   4868\u001b[0m \u001b[38;5;28mself\u001b[39m\u001b[38;5;241m.\u001b[39m_apply_parameters_to_engine(used_parameters)\n\u001b[0;32m-> 4870\u001b[0m new_solution \u001b[38;5;241m=\u001b[39m \u001b[43mself_engine\u001b[49m\u001b[38;5;241;43m.\u001b[39;49m\u001b[43msolve\u001b[49m\u001b[43m(\u001b[49m\u001b[38;5;28;43mself\u001b[39;49m\u001b[43m,\u001b[49m\n\u001b[1;32m   4871\u001b[0m \u001b[43m                                 \u001b[49m\u001b[43mparameters\u001b[49m\u001b[38;5;241;43m=\u001b[39;49m\u001b[43mused_parameters\u001b[49m\u001b[43m,\u001b[49m\n\u001b[1;32m   4872\u001b[0m \u001b[43m                                 \u001b[49m\u001b[43mclean_before_solve\u001b[49m\u001b[38;5;241;43m=\u001b[39;49m\u001b[43mclean_before_solve\u001b[49m\u001b[43m,\u001b[49m\n\u001b[1;32m   4873\u001b[0m \u001b[43m                                 \u001b[49m\u001b[43mparameter_sets\u001b[49m\u001b[43m \u001b[49m\u001b[38;5;241;43m=\u001b[39;49m\u001b[43m \u001b[49m\u001b[43mparameter_sets\u001b[49m\u001b[43m)\u001b[49m\n\u001b[1;32m   4875\u001b[0m \u001b[38;5;66;03m# store solve status as returned by the engine.\u001b[39;00m\n\u001b[1;32m   4876\u001b[0m engine_status \u001b[38;5;241m=\u001b[39m self_engine\u001b[38;5;241m.\u001b[39mget_solve_status()\n",
      "File \u001b[0;32m~/.local/lib/python3.9/site-packages/docplex/mp/cplex_engine.py:2044\u001b[0m, in \u001b[0;36mCplexEngine.solve\u001b[0;34m(self, mdl, parameters, **kwargs)\u001b[0m\n\u001b[1;32m   2042\u001b[0m     cpx_status \u001b[38;5;241m=\u001b[39m \u001b[38;5;241m1016\u001b[39m\n\u001b[1;32m   2043\u001b[0m     cpx_status_string \u001b[38;5;241m=\u001b[39m \u001b[38;5;124m\"\u001b[39m\u001b[38;5;124mPromotional version. Problem size limits exceeded., CPLEX code=1016.\u001b[39m\u001b[38;5;124m\"\u001b[39m\n\u001b[0;32m-> 2044\u001b[0m     \u001b[38;5;28;43mself\u001b[39;49m\u001b[38;5;241;43m.\u001b[39;49m\u001b[43m_model\u001b[49m\u001b[38;5;241;43m.\u001b[39;49m\u001b[43mfatal_ce_limits\u001b[49m\u001b[43m(\u001b[49m\u001b[43m)\u001b[49m\n\u001b[1;32m   2046\u001b[0m \u001b[38;5;28;01melif\u001b[39;00m \u001b[38;5;28mself\u001b[39m\u001b[38;5;241m.\u001b[39mfix_multiobj_error_1300 \u001b[38;5;129;01mand\u001b[39;00m \u001b[38;5;241m1300\u001b[39m \u001b[38;5;241m==\u001b[39m cpx_code:\n\u001b[1;32m   2047\u001b[0m     \u001b[38;5;66;03m# multiobjective error but there IS a solution (?)\u001b[39;00m\n\u001b[1;32m   2048\u001b[0m     cpx_status \u001b[38;5;241m=\u001b[39m \u001b[38;5;241m1300\u001b[39m\n",
      "File \u001b[0;32m~/.local/lib/python3.9/site-packages/docplex/mp/model.py:1086\u001b[0m, in \u001b[0;36mModel.fatal_ce_limits\u001b[0;34m(self, *args)\u001b[0m\n\u001b[1;32m   1083\u001b[0m nb_vars \u001b[38;5;241m=\u001b[39m \u001b[38;5;28mself\u001b[39m\u001b[38;5;241m.\u001b[39mnumber_of_variables\n\u001b[1;32m   1084\u001b[0m nb_constraints \u001b[38;5;241m=\u001b[39m \u001b[38;5;28mself\u001b[39m\u001b[38;5;241m.\u001b[39mnumber_of_constraints\n\u001b[0;32m-> 1086\u001b[0m \u001b[38;5;28;43mself\u001b[39;49m\u001b[38;5;241;43m.\u001b[39;49m\u001b[43m_error_handler\u001b[49m\u001b[38;5;241;43m.\u001b[39;49m\u001b[43mfatal_limits_exceeded\u001b[49m\u001b[43m(\u001b[49m\u001b[43mnb_vars\u001b[49m\u001b[43m,\u001b[49m\u001b[43m \u001b[49m\u001b[43mnb_constraints\u001b[49m\u001b[43m)\u001b[49m\n",
      "File \u001b[0;32m~/.local/lib/python3.9/site-packages/docplex/mp/error_handler.py:214\u001b[0m, in \u001b[0;36mAbstractErrorHandler.fatal_limits_exceeded\u001b[0;34m(self, nb_vars, nb_constraints)\u001b[0m\n\u001b[1;32m    212\u001b[0m \u001b[38;5;28;01mdef\u001b[39;00m \u001b[38;5;21mfatal_limits_exceeded\u001b[39m(\u001b[38;5;28mself\u001b[39m, nb_vars, nb_constraints):\n\u001b[1;32m    213\u001b[0m     docplex_error_stop_here()\n\u001b[0;32m--> 214\u001b[0m     \u001b[38;5;28;01mraise\u001b[39;00m DOcplexLimitsExceeded(nb_vars, nb_constraints)\n",
      "\u001b[0;31mDOcplexLimitsExceeded\u001b[0m: **** Promotional version. Problem size limits (1000 vars, 1000 consts) exceeded, model has 1806 vars, 1767 consts, CPLEX code=1016"
     ]
    }
   ],
   "source": [
    "from docplex.mp.model import Model\n",
    "import tsp.data as data\n",
    "\n",
    "distances = data.grid42\n",
    "N = len(distances)\n",
    "\n",
    "tsp = Model(\"TSP\")\n",
    "tsp.log_output = True\n",
    "\n",
    "x = [tsp.binary_var_list(N, name = f\"X_{i}\") for i in range(N)]\n",
    "x_transposee = [[x[i][j] for i in range(N)] for j in range(N)]\n",
    "\n",
    "u = tsp.integer_var_list(N, [1, *[2]*(N-1)], N, \"U\")\n",
    "\n",
    "for i in range(N):\n",
    "    tsp.add_constraint(x[i][i] == 0)\n",
    "    tsp.add_constraint(tsp.sum(x[i][:i] + x[i][i+1:]) == 1)\n",
    "    tsp.add_constraint(tsp.sum(x_transposee[i][:i] + x_transposee[i][i+1:]) == 1)\n",
    "\n",
    "tsp.add_constraint(u[0] == 1)\n",
    "\n",
    "for i in range(1,N):\n",
    "    for j in range(1,N):\n",
    "        if i != j:\n",
    "            tsp.add_constraint((u[i] - u[j] + 1) <= ((N-1)*(1 - x[i][j])))\n",
    "            \n",
    "tsp.minimize(tsp.sum([tsp.dot(x[i], distances[i]) for i in range(N)]))\n",
    "\n",
    "solution = tsp.solve()\n",
    "print(\"z* =\", solution.objective_value)"
   ]
  },
  {
   "cell_type": "markdown",
   "metadata": {},
   "source": [
    "The largest set of distances contains 42 nodes, and should be easily solved by `docplex`.\n",
    "\n",
    "### 2.2. Generating random TSP instances\n",
    "\n",
    "**Question:** What method could you implement to generate a realistic set of distances for $n$ customers?\n",
    "\n",
    "**Exercice:** Implement the method proposed above and test it."
   ]
  },
  {
   "cell_type": "code",
   "execution_count": null,
   "metadata": {},
   "outputs": [],
   "source": [
    "import numpy as np\n",
    "import scipy.spatial.distance\n",
    "\n",
    "\n",
    "def generate_distances(n: int):\n",
    "    ...  # TODO\n",
    "\n",
    "\n",
    "from docplex.mp.model import Model\n",
    "\n",
    "distances = generate_distances(50)\n",
    "print(distances)\n",
    "\n",
    "N = len(distances)\n",
    "\n",
    "tsp = Model(\"TSP\")\n",
    "tsp.log_output = True\n",
    "\n",
    "...  # TODO: Copy your model from the first question here.\n",
    "\n",
    "solution = tsp.solve()\n",
    "print(\"z* =\", solution.objective_value)"
   ]
  },
  {
   "cell_type": "markdown",
   "metadata": {},
   "source": [
    "## 3. Solving Warehouse Allocation using Benders decomposition with `docplex`\n",
    "\n",
    "### 3.1. The warehouse problem\n",
    "\n",
    "A company needs to supply a set of $n$ clients and needs to open new warehouses (from a\n",
    "set of $m$ possible warehouses).\n",
    "Opening a warehouse $j$ costs $f_j$ and supplying a client $i$ from a warehouse $j$ costs $c_{ij}$ per supply unit.\n",
    "Which warehouses should be opened in order to satisfy all clients while minimizing the total cost?\n",
    "\n",
    "### 3.2. Solving the warehouse problem with a single ILP\n",
    "\n",
    "- $y_{j} = 1$ if and only if warehouse $j$ is opened.\n",
    "- $x_{ij}$ is the fraction supplied from warehouse $j$ to customer $i$.\n",
    "\n",
    "$\n",
    "\\begin{align}\n",
    "  \\text{min.} \\quad & \\sum_{i=1}^{n} \\sum_{j=1}^{m} c_{ij} x_{ij} + \\sum_{j=1}^{m} f_{j} y_{j} & \\\\\n",
    "  \\text{s.t.} \\quad & \\sum_{j=1}^{m} x_{ij} = 1, & \\forall i \\in\\{1,\\ldots,n\\}\\\\\n",
    "                    & x_{ij} \\leq y_{j}, & \\forall i\\in\\{1,\\ldots,n\\},\\forall j\\in\\{1,\\ldots,m\\}\\\\\n",
    "                    & y_{j} \\in \\left\\{0,~1\\right\\}, & \\forall j \\in \\left\\{1,~\\ldots,~m\\right\\}\\\\\n",
    "                    & x_{ij} \\geq 0, & \\forall i \\in \\left\\{1,~\\ldots,~n\\right\\}, \\forall j \\in \\left\\{1,~\\ldots,~m\\right\\}\n",
    "\\end{align}\n",
    "$\n",
    "\n",
    "\n",
    "**Exercice:** Implement the ILP model for the warehouse allocation problem and test it on the given instance."
   ]
  },
  {
   "cell_type": "code",
   "execution_count": null,
   "metadata": {},
   "outputs": [],
   "source": [
    "from docplex.mp.model import Model\n",
    "\n",
    "# We will start with a small instances with 3 warehouses and 3 clients:\n",
    "N = 3\n",
    "M = 3\n",
    "\n",
    "# Opening and distribution costs:\n",
    "f = [20, 20, 20]\n",
    "c = [[15, 1, 2], [1, 16, 3], [4, 1, 17]]\n",
    "\n",
    "wa = Model(\"Warehouse Allocation\")\n",
    "wa.log_output = True\n",
    "\n",
    "...  # TODO: Model for the warehouse allocation.\n",
    "\n",
    "solution = wa.solve()\n",
    "print(\"z* =\", solution.objective_value)"
   ]
  },
  {
   "cell_type": "markdown",
   "metadata": {},
   "source": [
    "### 3.3. Benders' decomposition for the Warehouse Allocation problem\n",
    "\n",
    "We are going to use Benders' decomposition to solve the Warehouse Allocation problem. \n",
    "\n",
    "#### Dual subproblem\n",
    "\n",
    "$\n",
    "\\begin{align*}\n",
    "\\text{max.} \\quad & \\sum_{i=1}^{n} v_{i} - \\sum_{i=1}^{n}\\sum_{j=1}^{m} \\bar{y}_{j} u_{ij} & \\\\\n",
    "\\text{s.t.} \\quad & v_{i} - u_{ij} \\leq c_{ij}, & \\forall i\\in\\{1,\\ldots,n\\},\\forall j\\in\\{1,\\ldots,m\\}\\\\\n",
    "                  & v_{i} \\in\\mathbb{R},\\ u_{ij} \\geq 0 & \\forall i \\in\\{1,\\ldots,n\\}, \\forall j\\in\\{1,\\ldots,m\\}\n",
    "\\end{align*}\n",
    "$\n",
    "\n",
    "#### Master problem\n",
    "\n",
    "$\n",
    "\\begin{align*}\n",
    "  \\text{min.} \\quad & \\sum_{j=1}^{m} f_j y_j + z & \\\\\n",
    "  \\text{s.t.} \\quad & z \\geq \\sum_{i=1}^{n}v_i^p - \\sum_{i=1}^{n} \\sum_{j=1}^{m} u_{ij}^p y_j, & \\forall p\\in l_1\\\\\n",
    "                    & 0 \\geq \\sum_{i=1}^{n}v_i^r - \\sum_{i=1}^{n} \\sum_{j=1}^{n} u_{ij}^r y_j, & \\forall r\\in l_2\\\\\n",
    "                    & y_{j} \\in\\{0,1\\}, & \\forall j\\in\\{1,\\ldots,m\\}\n",
    "\\end{align*}\n",
    "$"
   ]
  },
  {
   "cell_type": "markdown",
   "metadata": {},
   "source": [
    "**Exercice:** Implement the method `create_master_problem` that creates the initial master problem (without feasibility or optimality constraints) for the warehouse allocation problem.\n",
    "\n",
    "<div class=\"alert alert-info alert-block\">\n",
    "\n",
    "You can use `print(m.export_as_lp_string())` to display a textual representation of a `docplex` model `m`.\n",
    "    \n",
    "</div>"
   ]
  },
  {
   "cell_type": "code",
   "execution_count": null,
   "metadata": {},
   "outputs": [],
   "source": [
    "from docplex.mp.model import Model\n",
    "from docplex.mp.linear import Var\n",
    "from docplex.mp.constr import AbstractConstraint\n",
    "from typing import List, Sequence, Tuple\n",
    "\n",
    "\n",
    "def create_master_problem(\n",
    "    N: int, M: int, f: Sequence[float], c: Sequence[Sequence[float]]\n",
    ") -> Tuple[Model, Var, Sequence[Var]]:\n",
    "    \"\"\"\n",
    "    Creates the initial Benders master problem for the Warehouse Allocation problem.\n",
    "\n",
    "    Args:\n",
    "        N: Number of clients.\n",
    "        M: Number of warehouses.\n",
    "        f: Array-like containing costs of opening warehouses.\n",
    "        c: 2D-array like containing transport costs from client to warehouses.\n",
    "\n",
    "    Returns:\n",
    "        A 3-tuple containing the docplex problem, the z variable and the y variables.\n",
    "    \"\"\"\n",
    "\n",
    "    wa = Model(\"Warehouse Allocation - Benders master problem\")\n",
    "\n",
    "    ...  # TODO\n",
    "\n",
    "    return wa, z, y\n",
    "\n",
    "\n",
    "# Check your method:\n",
    "wa, z, y = create_master_problem(N, M, f, c)\n",
    "print(wa.export_as_lp_string())"
   ]
  },
  {
   "cell_type": "markdown",
   "metadata": {},
   "source": [
    "**Exercice:** Implement the method `add_optimality_constraints` that add optimality constraints to the Benders master problem. "
   ]
  },
  {
   "cell_type": "code",
   "execution_count": null,
   "metadata": {},
   "outputs": [],
   "source": [
    "def add_optimality_constraint(\n",
    "    N: int,\n",
    "    M: int,\n",
    "    wa: Model,\n",
    "    z: Var,\n",
    "    y: Sequence[Var],\n",
    "    v: Sequence[float],\n",
    "    u: Sequence[Sequence[float]],\n",
    ") -> List[AbstractConstraint]:\n",
    "    \"\"\"\n",
    "    Adds an optimality constraints to the given Warehouse Allocation model\n",
    "    using the given optimal values from the Benders dual subproblem.\n",
    "\n",
    "    Args:\n",
    "        N: Number of clients.\n",
    "        M: Number of warehouses.\n",
    "        wa: The Benders master problem (docplex.mp.model.Model).\n",
    "        z: The z variable of the master problem.\n",
    "        y: The y variables of the master problem.\n",
    "        v: The optimal values for the v variables of the Benders dual subproblem.\n",
    "        u: The optimal values for the u variables of the Benders dual subproblem.\n",
    "\n",
    "    Return: The optimality constraint added.\n",
    "    \"\"\"\n",
    "    return ...  # TODO"
   ]
  },
  {
   "cell_type": "markdown",
   "metadata": {},
   "source": [
    "**Exercice:** Implement the method `add_feasibility_constraints` that add feasibility constraints to the Benders master problem. "
   ]
  },
  {
   "cell_type": "code",
   "execution_count": null,
   "metadata": {},
   "outputs": [],
   "source": [
    "def add_feasibility_constraints(\n",
    "    N: int,\n",
    "    M: int,\n",
    "    wa: Model,\n",
    "    z: Var,\n",
    "    y: Sequence[Var],\n",
    "    v: Sequence[float],\n",
    "    u: Sequence[Sequence[float]],\n",
    ") -> List[AbstractConstraint]:\n",
    "    \"\"\"\n",
    "    Adds an optimality constraints to the given Warehouse Allocation model\n",
    "    using the given optimal values from the Benders dual subproblem.\n",
    "\n",
    "    Args:\n",
    "      - N: Number of clients.\n",
    "      - M: Number of warehouses.\n",
    "      - wa: The Benders master problem (docplex.mp.model.Model).\n",
    "      - z: The z variable of the master problem.\n",
    "      - y: The y variables of the master problem.\n",
    "      - v: The extreme rays for the v variables of the Benders dual subproblem.\n",
    "      - u: The extreme rays for the u variables of the Benders dual subproblem.\n",
    "\n",
    "    Returns:\n",
    "        The feasibility constraint added.\n",
    "    \"\"\"\n",
    "    # TODO:\n",
    "    return"
   ]
  },
  {
   "cell_type": "markdown",
   "metadata": {},
   "source": [
    "**Exercice:** Implement the method `create_dual_subproblem` that, given a solution `y` of the master problem, create the corresponding Benders dual subproblem.\n",
    "\n",
    "$\n",
    "\\begin{align*}\n",
    "\\text{max.} \\quad & \\sum_{i=1}^{n} v_{i} - \\sum_{i=1}^{n}\\sum_{j=1}^{m} \\bar{y}_{j} u_{ij} & \\\\\n",
    "\\text{s.t.} \\quad & v_{i} - u_{ij} \\leq c_{ij}, & \\forall i\\in\\{1,\\ldots,n\\},\\forall j\\in\\{1,\\ldots,m\\}\\\\\n",
    "                  & v_{i} \\in\\mathbb{R},\\ u_{ij} \\geq 0 & \\forall i \\in\\{1,\\ldots,n\\}, \\forall j\\in\\{1,\\ldots,m\\}\n",
    "\\end{align*}\n",
    "$"
   ]
  },
  {
   "cell_type": "code",
   "execution_count": null,
   "metadata": {},
   "outputs": [],
   "source": [
    "from docplex.mp.model import Model\n",
    "\n",
    "\n",
    "def create_dual_subproblem(\n",
    "    N: int, M: int, f: Sequence[float], c: Sequence[Sequence[float]], y: Sequence[int]\n",
    ") -> Tuple[Model, Sequence[Var], Sequence[Sequence[Var]]]:\n",
    "    \"\"\"\n",
    "    Creates a Benders dual subproblem for the Warehouse Allocation problem corresponding\n",
    "    to the given master solution.\n",
    "\n",
    "    Args:\n",
    "        N: Number of clients.\n",
    "        M: Number of warehouses.\n",
    "        f: Array-like containing costs of opening warehouses.\n",
    "        c: 2D-array like containing transport costs from client to warehouses.\n",
    "        y: Values of the y variables from the Benders master problem.\n",
    "\n",
    "    Returns:\n",
    "        A 3-tuple containing the docplex problem, the v variable and the u variables.\n",
    "    \"\"\"\n",
    "\n",
    "    dsp = Model(\"Warehouse Allocation - Benders dual subproblem\")\n",
    "\n",
    "    # We disable pre-solve to be able to retrieve a meaningful status in the main\n",
    "    # algorithm:\n",
    "    dsp.parameters.preprocessing.presolve.set(0)\n",
    "\n",
    "    ...  # TODO\n",
    "\n",
    "    return dsp, v, u\n",
    "\n",
    "\n",
    "# Check your method (assuming y = [1 1 1 ... 1]):\n",
    "dsp, v, u = create_dual_subproblem(N, M, f, c, [1] * M)\n",
    "print(dsp.export_as_lp_string())"
   ]
  },
  {
   "cell_type": "markdown",
   "metadata": {},
   "source": [
    "**Exercice:** Using the methods you implemented, write the Benders decomposition algorithm for the warehouse allocation problem.\n",
    "\n",
    "<div class=\"alert alert-block alert-info\">\n",
    "\n",
    "The `get_extreme_rays` function can be used to retrieve the extreme rays associated with an unbounded solution of the dual subproblem.\n",
    "    \n",
    "</div>\n",
    "\n",
    "<div class=\"alert alert-block alert-info\">\n",
    "    \n",
    "You can use `model.get_solve_status()` to obtain the status of the resolution and compare it to members of `JobSolveStatus`:\n",
    "    \n",
    "```python\n",
    "if model.get_solve_status() == JobSolveStatus.OPTIMAL_SOLUTION:\n",
    "    pass\n",
    "```\n",
    "    \n",
    "</div>"
   ]
  },
  {
   "cell_type": "code",
   "execution_count": null,
   "metadata": {},
   "outputs": [],
   "source": [
    "from docplex.mp.model import Model\n",
    "from docplex.util.status import JobSolveStatus\n",
    "\n",
    "\n",
    "def get_extreme_rays(\n",
    "    N: int, M: int, model: Model, v: Sequence[Var], u: Sequence[Sequence[Var]]\n",
    ") -> Tuple[Sequence[float], Sequence[Sequence[float]]]:\n",
    "    \"\"\"\n",
    "    Retrieves the extreme rays associated to the dual subproblem.\n",
    "\n",
    "    Args:\n",
    "        N: Number of clients.\n",
    "        M: Number of warehouses.\n",
    "        model: The Benders dual subproblem model (docplex.mp.model.Model).\n",
    "        v: 1D array containing the v variables of the subproblem.\n",
    "        u: Either a 2D array of a tuple-index dictionary containing the u variables\n",
    "            of the subproblem.\n",
    "\n",
    "    Returns:\n",
    "        A 2-tuple containing the list of extreme rays correspondig to v,\n",
    "        and the 2D-list of extreme rays corresponding to u.\n",
    "    \"\"\"\n",
    "    ray = model.get_engine().get_cplex().solution.advanced.get_ray()\n",
    "\n",
    "    if isinstance(u, dict):\n",
    "\n",
    "        def get_uij(i, j):\n",
    "            return u[i, j]\n",
    "\n",
    "    else:\n",
    "\n",
    "        def get_uij(i, j):\n",
    "            return u[i][j]\n",
    "\n",
    "    return (\n",
    "        [ray[v[i].index] for i in range(N)],\n",
    "        [[ray[get_uij(i, j).index] for j in range(M)] for i in range(N)],\n",
    "    )\n",
    "\n",
    "\n",
    "# We will start with a small instances with 3 warehouses and 3 clients:\n",
    "N = 3\n",
    "M = 3\n",
    "\n",
    "# Opening and distribution costs:\n",
    "f = [20, 20, 20]\n",
    "c = [[15, 1, 2], [1, 16, 3], [4, 1, 17]]\n",
    "\n",
    "# We stop iterating if the new solution is less than epsilon\n",
    "# better than the previous one:\n",
    "epsilon = 1e-6\n",
    "\n",
    "wa, z, y = create_master_problem(N, M, f, c)\n",
    "\n",
    "n = 0\n",
    "while True:\n",
    "\n",
    "    # Print iteration:\n",
    "    n = n + 1\n",
    "    print(\"Iteration {}\".format(n))\n",
    "\n",
    "    ...  # TODO\n",
    "\n",
    "print(\"Done.\")"
   ]
  },
  {
   "cell_type": "markdown",
   "metadata": {},
   "source": [
    "### 3.4. Generating instances for the Warehouse Allocation problem\n",
    "\n",
    "**Exercice:** Using the TSP instances contained in `tsp.data` or the `generate_distances` method, create instances for the warehouse allocation problem with randomized opening costs."
   ]
  },
  {
   "cell_type": "code",
   "execution_count": null,
   "metadata": {},
   "outputs": [],
   "source": []
  },
  {
   "cell_type": "markdown",
   "metadata": {},
   "source": [
    "<div class=\"alert alert-block alert-danger\"></div>"
   ]
  }
 ],
 "metadata": {
  "kernelspec": {
   "display_name": "Python 3 (ipykernel)",
   "language": "python",
   "name": "python3"
  },
  "language_info": {
   "codemirror_mode": {
    "name": "ipython",
    "version": 3
   },
   "file_extension": ".py",
   "mimetype": "text/x-python",
   "name": "python",
   "nbconvert_exporter": "python",
   "pygments_lexer": "ipython3",
   "version": "3.9.12"
  }
 },
 "nbformat": 4,
 "nbformat_minor": 4
}
